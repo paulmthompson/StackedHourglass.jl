{
 "cells": [
  {
   "cell_type": "markdown",
   "metadata": {},
   "source": [
    "Download and extra the LSP dataset:\n",
    "https://sam.johnson.io/research/lsp.html\n"
   ]
  },
  {
   "cell_type": "code",
   "execution_count": null,
   "metadata": {},
   "outputs": [],
   "source": [
    "using StackedHourglass\n",
    "\n",
    "lsp_dataset_path = \"\"\n",
    "\n",
    "n_images_training = 1750\n",
    "\n",
    "output_resolution = 64\n",
    "\n",
    "batch_size = 8\n",
    "\n",
    "num_iterations = 100000"
   ]
  },
  {
   "cell_type": "code",
   "execution_count": null,
   "metadata": {},
   "outputs": [],
   "source": []
  }
 ],
 "metadata": {
  "kernelspec": {
   "display_name": "Julia 1.0.5",
   "language": "julia",
   "name": "julia-1.0"
  },
  "language_info": {
   "file_extension": ".jl",
   "mimetype": "application/julia",
   "name": "julia",
   "version": "1.0.5"
  }
 },
 "nbformat": 4,
 "nbformat_minor": 2
}
